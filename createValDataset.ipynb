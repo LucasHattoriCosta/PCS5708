{
 "cells": [
  {
   "cell_type": "code",
   "execution_count": 1,
   "id": "5db6de18-f258-4865-a1f7-86e737c3798d",
   "metadata": {},
   "outputs": [
    {
     "data": {
      "text/plain": [
       "<module 'src.utils' from 'C:\\\\Users\\\\Lucas\\\\Documents\\\\GitHub\\\\Poli\\\\PCS5708\\\\src\\\\utils.py'>"
      ]
     },
     "execution_count": 1,
     "metadata": {},
     "output_type": "execute_result"
    }
   ],
   "source": [
    "from src import utils\n",
    "from importlib import reload\n",
    "import pandas as pd\n",
    "import numpy as np\n",
    "reload(utils)"
   ]
  },
  {
   "cell_type": "code",
   "execution_count": 2,
   "id": "3293e27b-b9b6-4008-8453-d170ae61a90d",
   "metadata": {},
   "outputs": [],
   "source": [
    "df = utils.read_and_treat_data()\n",
    "chosen_vars = ['currentRatio', 'grossProfitMargin', 'debtEquityRatio', 'assetTurnover', 'operatingCashFlowPerShare']\n",
    "new_df = utils.enconding_ratios(df,chosen_vars)\n",
    "val_df = pd.DataFrame()"
   ]
  },
  {
   "cell_type": "code",
   "execution_count": 3,
   "id": "1b628c64-6aa4-4630-854c-975b3b814bc8",
   "metadata": {},
   "outputs": [],
   "source": [
    "val_idxs = [238,235]+[1442,1444]+[31,32]+[248,245]+[500,498]+[1205,1206]+[369,366]+[365,367]+\\\n",
    "[1458,1457]+[1348,1351]+[793,792]+[1546,1544]"
   ]
  },
  {
   "cell_type": "code",
   "execution_count": 4,
   "id": "7446a365-edbb-4a1d-b8d1-0aeb9b8ecb60",
   "metadata": {},
   "outputs": [],
   "source": [
    "val_df = new_df.loc[val_idxs]"
   ]
  },
  {
   "cell_type": "code",
   "execution_count": 5,
   "id": "db1c8d38-2ba2-4da4-b4d5-c4b4b9dba511",
   "metadata": {
    "tags": []
   },
   "outputs": [
    {
     "data": {
      "text/plain": [
       "{('AAA', 'AAA'): 1,\n",
       " ('AA', 'AA'): 1,\n",
       " ('AA', 'A'): 1,\n",
       " ('BB', 'BB'): 3,\n",
       " ('B', 'BB'): 1,\n",
       " ('BB', 'BBB'): 1,\n",
       " ('BBB', 'BB'): 1,\n",
       " ('BBB', 'BBB'): 1,\n",
       " ('B', 'B'): 1,\n",
       " ('CCC', 'CCC'): 1}"
      ]
     },
     "execution_count": 5,
     "metadata": {},
     "output_type": "execute_result"
    }
   ],
   "source": [
    "drs = {}\n",
    "for t in val_df.Symbol.unique():\n",
    "    try:\n",
    "        r0,r1 = val_df.loc[(val_df['Symbol']==t)][['Rating','year']].sort_values(['year'])['Rating']\n",
    "    except:\n",
    "        r0,r1,r2,r3 = val_df.loc[(val_df['Symbol']==t)][['Rating','year']].sort_values(['year'])['Rating']\n",
    "        if (r2,r3) in drs.keys():\n",
    "            drs[(r2,r3)] += 1\n",
    "        else:\n",
    "            drs[(r2,r3)] = 1\n",
    "    if (r0,r1) in drs.keys():\n",
    "        drs[(r0,r1)] += 1\n",
    "    else:\n",
    "        drs[(r0,r1)] = 1       \n",
    "drs"
   ]
  },
  {
   "cell_type": "code",
   "execution_count": 6,
   "id": "fd842344-6c3b-47c3-9379-7d348eb5cd27",
   "metadata": {},
   "outputs": [],
   "source": [
    "df.drop(val_idxs,inplace=True)"
   ]
  },
  {
   "cell_type": "code",
   "execution_count": 7,
   "id": "934ed64a-221a-4070-90d4-2ba8bfe9e81a",
   "metadata": {},
   "outputs": [],
   "source": [
    "val_df.to_csv('./data/validation_dataset.csv',index=False)"
   ]
  },
  {
   "cell_type": "code",
   "execution_count": 8,
   "id": "53f53806-cc46-4c44-8be6-af1092621073",
   "metadata": {},
   "outputs": [],
   "source": [
    "df.to_csv('./data/training_dataset.csv',index=False)"
   ]
  },
  {
   "cell_type": "code",
   "execution_count": 9,
   "id": "96a8a824-8f45-4057-9e68-5b6627c07146",
   "metadata": {},
   "outputs": [
    {
     "name": "stdout",
     "output_type": "stream",
     "text": [
      "Number of dropped rows: 0\n"
     ]
    }
   ],
   "source": [
    "j=0\n",
    "df = df.sort_values(['Date'])\n",
    "for y in sorted(df['year'].unique()):\n",
    "    df1 = df.loc[df['year']==y].copy()\n",
    "    i=0\n",
    "    for t in df1.Symbol.unique():\n",
    "        if df.loc[(df['year']==y) & (df['Symbol']==t)].shape[0] > 1:\n",
    "            i+=1\n",
    "            if df.loc[(df['year']==y-1) & (df['Symbol']==t)].shape[0] == 0:\n",
    "                df.loc[(df['year']==y) & (df['Symbol']==t), 'year'] = [y-1,y]\n",
    "            elif df.loc[(df['year']==y+1) & (df['Symbol']==t)].shape[0] == 0:\n",
    "                df.loc[(df['year']==y) & (df['Symbol']==t), 'year'] = [y,y+1]\n",
    "            else:\n",
    "                j+=1\n",
    "                idx1, idx2 = df.loc[(df['year']==y) & (df['Symbol']==t)].index\n",
    "                df.drop([idx2], inplace=True)\n",
    "    if i > 0:\n",
    "        print(f'Number of repeated ticker in same year for year {y}: {i}')\n",
    "print(f'Number of dropped rows: {j}')"
   ]
  },
  {
   "cell_type": "code",
   "execution_count": 10,
   "id": "e1a33148-2b37-4d6d-8a50-2e88e6b12de6",
   "metadata": {},
   "outputs": [],
   "source": [
    "silence=False"
   ]
  },
  {
   "cell_type": "code",
   "execution_count": 11,
   "id": "db41982c-e6f9-4fdd-a79c-c0f306f80a35",
   "metadata": {},
   "outputs": [
    {
     "name": "stdout",
     "output_type": "stream",
     "text": [
      "Numero de tickers sendo avaliados seguidamente entre os anos 2010 e 2011: 14\n",
      "Numero de tickers sendo avaliados seguidamente entre os anos 2011 e 2012: 106\n",
      "Numero de tickers sendo avaliados seguidamente entre os anos 2012 e 2013: 208\n",
      "Numero de tickers sendo avaliados seguidamente entre os anos 2013 e 2014: 244\n",
      "Numero de tickers sendo avaliados seguidamente entre os anos 2014 e 2015: 316\n",
      "Numero de tickers sendo avaliados seguidamente entre os anos 2015 e 2016: 282\n",
      "Numero de tickers sendo avaliados seguidamente entre os anos 2016 e 2017: 38\n",
      "Numero total de tickers sendo avaliados seguidamente: 1208\n"
     ]
    }
   ],
   "source": [
    "total = 0\n",
    "TICKERS_YEARS = {y:[] for y in df['year'].unique()}\n",
    "for y in sorted(df['year'].unique()):\n",
    "    df1 = df.loc[df['year']==y].copy()\n",
    "    i=0\n",
    "    for t in df1.Symbol.unique():\n",
    "        if not df.loc[(df['year']==y+1) & (df['Symbol']==t)].empty:\n",
    "            i+=1\n",
    "            TICKERS_YEARS[y].append(t)\n",
    "    if i>0 and not silence:\n",
    "        print(f'Numero de tickers sendo avaliados seguidamente entre os anos {y} e {y+1}: {i}')\n",
    "    total+=i\n",
    "if not silence:\n",
    "    print(f'Numero total de tickers sendo avaliados seguidamente: {total}')"
   ]
  }
 ],
 "metadata": {
  "kernelspec": {
   "display_name": "Python 3",
   "language": "python",
   "name": "python3"
  },
  "language_info": {
   "codemirror_mode": {
    "name": "ipython",
    "version": 3
   },
   "file_extension": ".py",
   "mimetype": "text/x-python",
   "name": "python",
   "nbconvert_exporter": "python",
   "pygments_lexer": "ipython3",
   "version": "3.8.8"
  }
 },
 "nbformat": 4,
 "nbformat_minor": 5
}
