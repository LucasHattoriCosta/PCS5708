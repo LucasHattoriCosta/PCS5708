{
 "cells": [
  {
   "cell_type": "code",
   "execution_count": 1,
   "id": "adeba09b-4565-4595-8c58-b1d2775f1128",
   "metadata": {},
   "outputs": [
    {
     "data": {
      "text/plain": [
       "{'divide': 'warn', 'over': 'warn', 'under': 'ignore', 'invalid': 'warn'}"
      ]
     },
     "execution_count": 1,
     "metadata": {},
     "output_type": "execute_result"
    }
   ],
   "source": [
    "from sklearn.neighbors import KNeighborsClassifier\n",
    "from sklearn.metrics import *\n",
    "import pandas as pd\n",
    "import numpy as np\n",
    "np.seterr(divide='ignore', invalid='ignore')"
   ]
  },
  {
   "cell_type": "code",
   "execution_count": 2,
   "id": "84420db2-5837-4a8b-89c2-a6930741a84e",
   "metadata": {},
   "outputs": [],
   "source": [
    "df = pd.read_csv('./data/training_dataset.csv')"
   ]
  },
  {
   "cell_type": "code",
   "execution_count": 3,
   "id": "ef0200b3-f4b1-46e9-aa04-aed85cdc5ad4",
   "metadata": {
    "tags": []
   },
   "outputs": [
    {
     "name": "stderr",
     "output_type": "stream",
     "text": [
      "C:\\Users\\Lucas\\miniconda3\\envs\\polienv\\lib\\site-packages\\pandas\\core\\frame.py:4308: SettingWithCopyWarning: \n",
      "A value is trying to be set on a copy of a slice from a DataFrame\n",
      "\n",
      "See the caveats in the documentation: https://pandas.pydata.org/pandas-docs/stable/user_guide/indexing.html#returning-a-view-versus-a-copy\n",
      "  return super().drop(\n"
     ]
    }
   ],
   "source": [
    "df = df.drop_duplicates().dropna()\n",
    "df['year'] = df['year'].astype(float)\n",
    "x_vars = ['currentRatio', 'grossProfitMargin', 'debtEquityRatio', 'assetTurnover', 'operatingCashFlowPerShare','year','sp500','n_sector']\n",
    "X = df[x_vars]\n",
    "y = df[['n_rating']]\n",
    "\n",
    "\n",
    "val_idxs = np.random.randint(low=1,high=X.shape[0],size=int(X.shape[0]*0.20))\n",
    "\n",
    "X.drop(val_idxs, inplace=True)\n",
    "y.drop(val_idxs, inplace=True)\n",
    "y = y.values.T[0]"
   ]
  },
  {
   "cell_type": "code",
   "execution_count": 4,
   "id": "fd5b6815-e560-4f87-ae99-aa2e266bce87",
   "metadata": {},
   "outputs": [
    {
     "data": {
      "text/plain": [
       "KNeighborsClassifier(n_neighbors=20)"
      ]
     },
     "execution_count": 4,
     "metadata": {},
     "output_type": "execute_result"
    }
   ],
   "source": [
    "knnModel = KNeighborsClassifier(n_neighbors=20)\n",
    "knnModel.fit(X,y.T)"
   ]
  },
  {
   "cell_type": "code",
   "execution_count": 5,
   "id": "101427f2-d730-4e47-9e3a-051b21a810ff",
   "metadata": {},
   "outputs": [
    {
     "data": {
      "text/plain": [
       "array([1.22185129, 1.0, 3.18953043, 0.445110389, 13.22604423, 2016.0, 0.0,\n",
       "       5], dtype=object)"
      ]
     },
     "execution_count": 5,
     "metadata": {},
     "output_type": "execute_result"
    }
   ],
   "source": [
    "df.loc[val_idxs[0], x_vars].values"
   ]
  },
  {
   "cell_type": "code",
   "execution_count": 6,
   "id": "303cc005-5452-40a8-8a01-3f7e0ab8bd1d",
   "metadata": {
    "tags": []
   },
   "outputs": [],
   "source": [
    "yPred = []\n",
    "yTrue = []\n",
    "for idx in val_idxs:\n",
    "    val_x = [float(x) for x in df.loc[idx, x_vars].values]\n",
    "    yPred.append(knnModel.predict([val_x])[0])\n",
    "    yTrue.append(df.loc[idx, 'n_rating'])"
   ]
  },
  {
   "cell_type": "code",
   "execution_count": 7,
   "id": "ae5d4238-5ab4-44ab-ac05-596c9b3b73df",
   "metadata": {},
   "outputs": [
    {
     "data": {
      "text/plain": [
       "0.9175257731958762"
      ]
     },
     "execution_count": 7,
     "metadata": {},
     "output_type": "execute_result"
    }
   ],
   "source": [
    "mean_absolute_error(yTrue,yPred)"
   ]
  },
  {
   "cell_type": "code",
   "execution_count": 8,
   "id": "d80c0908-d40f-4833-b724-c284bb409bb8",
   "metadata": {},
   "outputs": [],
   "source": [
    "yPredSparse = np.zeros((len(yPred),7))\n",
    "for i, c in enumerate(list(yPred)):\n",
    "    yPredSparse[i][c] = 1.0"
   ]
  },
  {
   "cell_type": "code",
   "execution_count": 9,
   "id": "d019930f-d2c8-40e7-9227-95ac5ca9b963",
   "metadata": {},
   "outputs": [
    {
     "data": {
      "text/plain": [
       "0.560323099163443"
      ]
     },
     "execution_count": 9,
     "metadata": {},
     "output_type": "execute_result"
    }
   ],
   "source": [
    "roc_auc_score(yTrue,np.array(yPredSparse),multi_class='ovr',average='weighted')"
   ]
  }
 ],
 "metadata": {
  "kernelspec": {
   "display_name": "Python 3",
   "language": "python",
   "name": "python3"
  },
  "language_info": {
   "codemirror_mode": {
    "name": "ipython",
    "version": 3
   },
   "file_extension": ".py",
   "mimetype": "text/x-python",
   "name": "python",
   "nbconvert_exporter": "python",
   "pygments_lexer": "ipython3",
   "version": "3.8.8"
  }
 },
 "nbformat": 4,
 "nbformat_minor": 5
}
